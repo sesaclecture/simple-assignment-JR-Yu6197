{
 "cells": [
  {
   "cell_type": "code",
   "execution_count": 1,
   "id": "c546e537",
   "metadata": {},
   "outputs": [
    {
     "name": "stdout",
     "output_type": "stream",
     "text": [
      "[1, 2, 3]\n",
      "[4, 5, 6]\n",
      "2\n",
      "5\n"
     ]
    }
   ],
   "source": [
    "numbers =[\n",
    "    [1,2,3], \n",
    "    [4,5,6]\n",
    "]\n",
    "\n",
    "print(numbers[0])\n",
    "print(numbers[1])\n",
    "print(numbers[0][1])\n",
    "print(numbers[1][1])"
   ]
  },
  {
   "cell_type": "code",
   "execution_count": 2,
   "id": "80fe5c92",
   "metadata": {},
   "outputs": [
    {
     "name": "stdout",
     "output_type": "stream",
     "text": [
      "Spring grades: [3.5, 4.0, 3.0, 4.5, 4.5, 4.5]\n",
      "Summer grades: [4.0, 3.5, 4.0, 4.0, 2.0, 2.5]\n",
      "Fall grades: [3.0, 4.0, 4.0, 3.5, 4.0, 3.5]\n",
      "Winter grades: [4.0, 4.0, 4.0, 3.5, 4.0]\n",
      "Total grades: [3.5, 4.0, 3.0, 4.5, 4.5, 4.5, 4.0, 3.5, 4.0, 4.0, 2.0, 2.5, 3.0, 4.0, 4.0, 3.5, 4.0, 3.5, 4.0, 4.0, 4.0, 3.5, 4.0]\n",
      "\n",
      "overall GPA: 3.72\n",
      "\n",
      "[Highest & Loewest Grades per Semester]\n",
      "spring - Highest: 4.5, Lowest: 3.0\n",
      "summer - Highest: 4.0, Lowest: 2.0\n",
      "fall - Highest: 4.0, Lowest: 3.0\n",
      "winter - Highest: 4.0, Lowest: 3.5\n"
     ]
    }
   ],
   "source": [
    "spring = [3.5, 4.0, 3.0, 4.5, 4.5, 4.5]\n",
    "summer = [4.0, 3.5, 4.0, 4.0, 2.0, 2.5]\n",
    "fall = [3.0, 4.0, 4.0, 3.5, 4.0, 3.5]\n",
    "winter = [4.0, 4.0, 4.0, 3.5, 4.0]\n",
    "\n",
    "semester = [spring, summer, fall, winter]\n",
    "semester_name = [\"spring\", \"summer\", \"fall\", \"winter\"]\n",
    "\n",
    "print(\"Spring grades:\", semester[0])\n",
    "print(\"Summer grades:\", semester[1])\n",
    "print(\"Fall grades:\", semester[2])\n",
    "print(\"Winter grades:\", semester[3])\n",
    "\n",
    "total_grades = spring + summer + fall + winter\n",
    "\n",
    "print(\"Total grades:\", total_grades)\n",
    "\n",
    "overall_avg = sum(total_grades) / len(total_grades)\n",
    "print(f\"\\noverall GPA: {overall_avg:.2f}\")\n",
    "\n",
    "print(\"\\n[Highest & Loewest Grades per Semester]\")\n",
    "for i in range(4):\n",
    "    max_score = max(semester[i])\n",
    "    min_score = min(semester[i])\n",
    "    print(f\"{semester_name[i]} - Highest: {max_score}, Lowest: {min_score}\")\n",
    "\n",
    "\n"
   ]
  },
  {
   "cell_type": "code",
   "execution_count": null,
   "id": "1ce89f88",
   "metadata": {},
   "outputs": [
    {
     "name": "stdout",
     "output_type": "stream",
     "text": [
      "Creating your account\n",
      "\"\n",
      "Your account has been created successfully!\"\n",
      "{\n",
      "  \"username\": \"jr\",\n",
      "  \"birth\": \"1997\",\n",
      "  \"email\": \"yjr6197@gmail.com\"\n",
      "}\n",
      "\"\n",
      "Your account has been updated successfully!\"\n",
      "{\n",
      "  \"username\": \"jungryeol\",\n",
      "  \"birth\": \"1997\",\n",
      "  \"email\": \"yjr6197@gmail.com\"\n",
      "}\n"
     ]
    }
   ],
   "source": [
    "import json\n",
    "\n",
    "\n",
    "print(\"Creating your account\")\n",
    "usr_manager = {\n",
    "    \"username\": input(\"Enter your username: \"),\n",
    "    \"birth\": input(\"Enter your year of birth:\"),\n",
    "    \"email\": input(\"Enter your email: \")\n",
    "}\n",
    "print('\"\\nYour account has been created successfully!\"')\n",
    "print(json.dumps(usr_manager,indent=2))\n",
    "\n",
    "filed_to_edit = input(\"\\nEnter the field you want to edit (username, birth, email): \")\n",
    "\n",
    "usr_manager[filed_to_edit] = input(f\"Enter your new {filed_to_edit}: \")\n",
    "\n",
    "print('\"\\nYour account has been updated successfully!\"')\n",
    "print(json.dumps(usr_manager,indent=2))"
   ]
  },
  {
   "cell_type": "code",
   "execution_count": null,
   "id": "3f4b773d",
   "metadata": {},
   "outputs": [],
   "source": []
  }
 ],
 "metadata": {
  "kernelspec": {
   "display_name": ".venv",
   "language": "python",
   "name": "python3"
  },
  "language_info": {
   "codemirror_mode": {
    "name": "ipython",
    "version": 3
   },
   "file_extension": ".py",
   "mimetype": "text/x-python",
   "name": "python",
   "nbconvert_exporter": "python",
   "pygments_lexer": "ipython3",
   "version": "3.12.3"
  }
 },
 "nbformat": 4,
 "nbformat_minor": 5
}
