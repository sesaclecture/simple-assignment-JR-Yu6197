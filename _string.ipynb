{
 "cells": [
  {
   "cell_type": "code",
   "execution_count": null,
   "id": "31d127f8",
   "metadata": {},
   "outputs": [],
   "source": [
    "w1 = \"one\"\n",
    "w2 = \"two\"\n",
    "w3 = \"three\"\n",
    "\n",
    "print(f\"count\")"
   ]
  },
  {
   "cell_type": "code",
   "execution_count": null,
   "id": "684f25b1",
   "metadata": {},
   "outputs": [],
   "source": [
    "sentence = input(Enter a Sentel)"
   ]
  }
 ],
 "metadata": {
  "kernelspec": {
   "display_name": ".venv",
   "language": "python",
   "name": "python3"
  },
  "language_info": {
   "name": "python",
   "version": "3.12.3"
  }
 },
 "nbformat": 4,
 "nbformat_minor": 5
}
